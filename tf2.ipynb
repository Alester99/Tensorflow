{
 "cells": [
  {
   "cell_type": "code",
   "execution_count": 1,
   "id": "2e30266e",
   "metadata": {},
   "outputs": [],
   "source": [
    "import matplotlib.pyplot as plt\n",
    "import tensorflow as tf\n",
    "import numpy as np\n"
   ]
  },
  {
   "cell_type": "code",
   "execution_count": 2,
   "id": "d77d1895",
   "metadata": {},
   "outputs": [],
   "source": [
    "class DenseNN(tf.Module):\n",
    "    def __init__(self,outputs):\n",
    "        super().__init__()\n",
    "        self.outputs = outputs\n",
    "        self.fl_init = False\n",
    "    \n",
    "    def __call__(self,x):\n",
    "        if not self.fl_init:\n",
    "            self.w = tf.random.truncated_normal((x.shape[-1],self.outputs),stddev=0.1, name=\"w\")\n",
    "            self.b = tf.zeros([self.outputs],dtype = tf.float32, name=\"b\")\n",
    "            \n",
    "            self.w = tf.Variable(self.w)\n",
    "            self.b = tf.Variable(self.b)\n",
    "            \n",
    "            self.fl_init = True\n",
    "            \n",
    "        y = x @ self.w + self.b\n",
    "        return y\n",
    "    "
   ]
  },
  {
   "cell_type": "code",
   "execution_count": 3,
   "id": "d2d4390e",
   "metadata": {},
   "outputs": [],
   "source": [
    "model = DenseNN(1)\n",
    "#print(model(tf.constant([[1.0, 2.0]])))\n",
    "x_train = tf.random.uniform(minval = 0, maxval = 10, shape = (100,2))\n",
    "y_train = [a+b for a,b in x_train]\n",
    "\n",
    "loss = lambda x, y: tf.reduce_mean(tf.square(x-y))\n",
    "opt = tf.keras.optimizers.Adam(learning_rate=0.01)"
   ]
  },
  {
   "cell_type": "code",
   "execution_count": 4,
   "id": "ada28a16",
   "metadata": {},
   "outputs": [
    {
     "name": "stdout",
     "output_type": "stream",
     "text": [
      "13.304577\n",
      "0.27030724\n",
      "0.00043199037\n",
      "0.00023306353\n",
      "0.0004041489\n",
      "0.0005032521\n",
      "0.0005277615\n",
      "0.0004850214\n",
      "0.00039659237\n",
      "0.00028826145\n",
      "0.0001824103\n",
      "9.4976676e-05\n",
      "3.490461e-05\n",
      "4.674156e-06\n",
      "1.8442515e-06\n",
      "2.0702319e-05\n",
      "5.3937947e-05\n",
      "9.397556e-05\n",
      "0.00013410722\n",
      "0.0001690871\n",
      "0.00019551793\n",
      "0.00021170858\n",
      "0.00021740791\n",
      "0.000213377\n",
      "0.00020121285\n",
      "0.0001828227\n",
      "0.00016039703\n",
      "0.00013583562\n",
      "0.000110991285\n",
      "8.738352e-05\n",
      "6.620669e-05\n",
      "4.8175283e-05\n",
      "3.3631804e-05\n",
      "2.2483422e-05\n",
      "1.4392284e-05\n",
      "8.825032e-06\n",
      "5.1864336e-06\n",
      "2.9206276e-06\n",
      "1.572721e-06\n",
      "8.1048347e-07\n",
      "4.0099258e-07\n",
      "1.8746141e-07\n",
      "8.2949555e-08\n",
      "3.529658e-08\n",
      "1.3536919e-08\n",
      "4.8466973e-09\n",
      "1.6816557e-09\n",
      "5.684342e-10\n",
      "9.094947e-11\n",
      "5.820766e-11\n",
      "(<tf.Variable 'Variable:0' shape=(1,) dtype=float32, numpy=array([2.850033e-05], dtype=float32)>, <tf.Variable 'Variable:0' shape=(2, 1) dtype=float32, numpy=\n",
      "array([[0.99999595],\n",
      "       [0.99999756]], dtype=float32)>)\n"
     ]
    }
   ],
   "source": [
    "EPOCHS = 50\n",
    "\n",
    "for n in range(EPOCHS):\n",
    "    for x,y in zip(x_train,y_train):\n",
    "        x = tf.expand_dims(x, axis=0)\n",
    "        y = tf.constant(y, shape=(1,1))\n",
    "        \n",
    "        with tf.GradientTape() as tape:\n",
    "            f_loss = loss(y, model(x))\n",
    "        grads = tape.gradient(f_loss, model.trainable_variables)\n",
    "        opt.apply_gradients(zip(grads,model.trainable_variables))\n",
    "        \n",
    "    print(f_loss.numpy())\n",
    "print(model.trainable_variables)\n",
    "        "
   ]
  }
 ],
 "metadata": {
  "kernelspec": {
   "display_name": "Python 3 (ipykernel)",
   "language": "python",
   "name": "python3"
  },
  "language_info": {
   "codemirror_mode": {
    "name": "ipython",
    "version": 3
   },
   "file_extension": ".py",
   "mimetype": "text/x-python",
   "name": "python",
   "nbconvert_exporter": "python",
   "pygments_lexer": "ipython3",
   "version": "3.9.7"
  }
 },
 "nbformat": 4,
 "nbformat_minor": 5
}
